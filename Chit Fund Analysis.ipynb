{
 "cells": [
  {
   "cell_type": "code",
   "execution_count": 1,
   "metadata": {},
   "outputs": [
    {
     "name": "stdout",
     "output_type": "stream",
     "text": [
      "(25, 6)\n"
     ]
    }
   ],
   "source": [
    "#used to read the csv and excel files and store it as a dataframe\n",
    "import pandas as pd\n",
    "\n",
    "#Loading the given data using this command\n",
    "#data is in excel format i renamed it to chit.xlsx\n",
    "chit=pd.read_excel('chit.xlsx',skiprows=1)\n",
    "#checking size\n",
    "print(chit.shape)\n"
   ]
  },
  {
   "cell_type": "code",
   "execution_count": 2,
   "metadata": {
    "scrolled": true
   },
   "outputs": [
    {
     "name": "stdout",
     "output_type": "stream",
     "text": [
      "    Month  Contribution  Amount won by the bidder  \\\n",
      "0       1          2000                     40000   \n",
      "1       2          2000                     42000   \n",
      "2       3          2000                     45000   \n",
      "3       4          2000                     48000   \n",
      "4       5          2000                     40000   \n",
      "5       6          2000                     42000   \n",
      "6       7          2000                     43000   \n",
      "7       8          2000                     44000   \n",
      "8       9          2000                     40000   \n",
      "9      10          2000                     42000   \n",
      "10     11          2000                     45000   \n",
      "11     12          2000                     48000   \n",
      "12     13          2000                     40000   \n",
      "13     14          2000                     42000   \n",
      "14     15          2000                     43000   \n",
      "15     16          2000                     43000   \n",
      "16     17          2000                     41000   \n",
      "17     18          2000                     42000   \n",
      "18     19          2000                     45000   \n",
      "19     20          2000                     45000   \n",
      "20     21          2000                     44000   \n",
      "21     22          2000                     46000   \n",
      "22     23          2000                     47000   \n",
      "23     24          2000                     48000   \n",
      "24     25          2000                     50000   \n",
      "\n",
      "    Chit fund organizer commission  Net amount recd by Bid winner  \\\n",
      "0                             2500                          37500   \n",
      "1                             2500                          39500   \n",
      "2                             2500                          42500   \n",
      "3                             2500                          45500   \n",
      "4                             2500                          37500   \n",
      "5                             2500                          39500   \n",
      "6                             2500                          40500   \n",
      "7                             2500                          41500   \n",
      "8                             2500                          37500   \n",
      "9                             2500                          39500   \n",
      "10                            2500                          42500   \n",
      "11                            2500                          45500   \n",
      "12                            2500                          37500   \n",
      "13                            2500                          39500   \n",
      "14                            2500                          40500   \n",
      "15                            2500                          40500   \n",
      "16                            2500                          38500   \n",
      "17                            2500                          39500   \n",
      "18                            2500                          42500   \n",
      "19                            2500                          42500   \n",
      "20                            2500                          41500   \n",
      "21                            2500                          43500   \n",
      "22                            2500                          44500   \n",
      "23                            2500                          45500   \n",
      "24                            2500                          47500   \n",
      "\n",
      "    Amount returned to everyone in the group  \n",
      "0                                        400  \n",
      "1                                        320  \n",
      "2                                        200  \n",
      "3                                         80  \n",
      "4                                        400  \n",
      "5                                        320  \n",
      "6                                        280  \n",
      "7                                        240  \n",
      "8                                        400  \n",
      "9                                        320  \n",
      "10                                       200  \n",
      "11                                        80  \n",
      "12                                       400  \n",
      "13                                       320  \n",
      "14                                       280  \n",
      "15                                       280  \n",
      "16                                       360  \n",
      "17                                       320  \n",
      "18                                       200  \n",
      "19                                       200  \n",
      "20                                       240  \n",
      "21                                       160  \n",
      "22                                       120  \n",
      "23                                        80  \n",
      "24                                         0  \n"
     ]
    }
   ],
   "source": [
    "#checking the Read data printing all values\n",
    "print(chit.head(25))"
   ]
  },
  {
   "cell_type": "code",
   "execution_count": 3,
   "metadata": {},
   "outputs": [
    {
     "name": "stdout",
     "output_type": "stream",
     "text": [
      "Index(['Month', 'Contribution', 'Amount won by the bidder',\n",
      "       'Chit fund organizer commission', 'Net amount recd by Bid winner',\n",
      "       'Amount returned to everyone in the group'],\n",
      "      dtype='object')\n"
     ]
    }
   ],
   "source": [
    "print(chit.columns)\n",
    "#renaming the column name for convienance\n",
    "\n",
    "chit.columns=['month','contribution','bid','commission','netbid','share']"
   ]
  },
  {
   "cell_type": "code",
   "execution_count": 4,
   "metadata": {},
   "outputs": [
    {
     "data": {
      "text/html": [
       "<div>\n",
       "<style scoped>\n",
       "    .dataframe tbody tr th:only-of-type {\n",
       "        vertical-align: middle;\n",
       "    }\n",
       "\n",
       "    .dataframe tbody tr th {\n",
       "        vertical-align: top;\n",
       "    }\n",
       "\n",
       "    .dataframe thead th {\n",
       "        text-align: right;\n",
       "    }\n",
       "</style>\n",
       "<table border=\"1\" class=\"dataframe\">\n",
       "  <thead>\n",
       "    <tr style=\"text-align: right;\">\n",
       "      <th></th>\n",
       "      <th>month</th>\n",
       "      <th>contribution</th>\n",
       "      <th>bid</th>\n",
       "      <th>commission</th>\n",
       "      <th>netbid</th>\n",
       "      <th>share</th>\n",
       "    </tr>\n",
       "  </thead>\n",
       "  <tbody>\n",
       "    <tr>\n",
       "      <td>0</td>\n",
       "      <td>1</td>\n",
       "      <td>2000</td>\n",
       "      <td>40000</td>\n",
       "      <td>2500</td>\n",
       "      <td>37500</td>\n",
       "      <td>400</td>\n",
       "    </tr>\n",
       "    <tr>\n",
       "      <td>1</td>\n",
       "      <td>2</td>\n",
       "      <td>2000</td>\n",
       "      <td>42000</td>\n",
       "      <td>2500</td>\n",
       "      <td>39500</td>\n",
       "      <td>320</td>\n",
       "    </tr>\n",
       "    <tr>\n",
       "      <td>2</td>\n",
       "      <td>3</td>\n",
       "      <td>2000</td>\n",
       "      <td>45000</td>\n",
       "      <td>2500</td>\n",
       "      <td>42500</td>\n",
       "      <td>200</td>\n",
       "    </tr>\n",
       "    <tr>\n",
       "      <td>3</td>\n",
       "      <td>4</td>\n",
       "      <td>2000</td>\n",
       "      <td>48000</td>\n",
       "      <td>2500</td>\n",
       "      <td>45500</td>\n",
       "      <td>80</td>\n",
       "    </tr>\n",
       "    <tr>\n",
       "      <td>4</td>\n",
       "      <td>5</td>\n",
       "      <td>2000</td>\n",
       "      <td>40000</td>\n",
       "      <td>2500</td>\n",
       "      <td>37500</td>\n",
       "      <td>400</td>\n",
       "    </tr>\n",
       "    <tr>\n",
       "      <td>5</td>\n",
       "      <td>6</td>\n",
       "      <td>2000</td>\n",
       "      <td>42000</td>\n",
       "      <td>2500</td>\n",
       "      <td>39500</td>\n",
       "      <td>320</td>\n",
       "    </tr>\n",
       "    <tr>\n",
       "      <td>6</td>\n",
       "      <td>7</td>\n",
       "      <td>2000</td>\n",
       "      <td>43000</td>\n",
       "      <td>2500</td>\n",
       "      <td>40500</td>\n",
       "      <td>280</td>\n",
       "    </tr>\n",
       "    <tr>\n",
       "      <td>7</td>\n",
       "      <td>8</td>\n",
       "      <td>2000</td>\n",
       "      <td>44000</td>\n",
       "      <td>2500</td>\n",
       "      <td>41500</td>\n",
       "      <td>240</td>\n",
       "    </tr>\n",
       "    <tr>\n",
       "      <td>8</td>\n",
       "      <td>9</td>\n",
       "      <td>2000</td>\n",
       "      <td>40000</td>\n",
       "      <td>2500</td>\n",
       "      <td>37500</td>\n",
       "      <td>400</td>\n",
       "    </tr>\n",
       "    <tr>\n",
       "      <td>9</td>\n",
       "      <td>10</td>\n",
       "      <td>2000</td>\n",
       "      <td>42000</td>\n",
       "      <td>2500</td>\n",
       "      <td>39500</td>\n",
       "      <td>320</td>\n",
       "    </tr>\n",
       "    <tr>\n",
       "      <td>10</td>\n",
       "      <td>11</td>\n",
       "      <td>2000</td>\n",
       "      <td>45000</td>\n",
       "      <td>2500</td>\n",
       "      <td>42500</td>\n",
       "      <td>200</td>\n",
       "    </tr>\n",
       "    <tr>\n",
       "      <td>11</td>\n",
       "      <td>12</td>\n",
       "      <td>2000</td>\n",
       "      <td>48000</td>\n",
       "      <td>2500</td>\n",
       "      <td>45500</td>\n",
       "      <td>80</td>\n",
       "    </tr>\n",
       "    <tr>\n",
       "      <td>12</td>\n",
       "      <td>13</td>\n",
       "      <td>2000</td>\n",
       "      <td>40000</td>\n",
       "      <td>2500</td>\n",
       "      <td>37500</td>\n",
       "      <td>400</td>\n",
       "    </tr>\n",
       "    <tr>\n",
       "      <td>13</td>\n",
       "      <td>14</td>\n",
       "      <td>2000</td>\n",
       "      <td>42000</td>\n",
       "      <td>2500</td>\n",
       "      <td>39500</td>\n",
       "      <td>320</td>\n",
       "    </tr>\n",
       "    <tr>\n",
       "      <td>14</td>\n",
       "      <td>15</td>\n",
       "      <td>2000</td>\n",
       "      <td>43000</td>\n",
       "      <td>2500</td>\n",
       "      <td>40500</td>\n",
       "      <td>280</td>\n",
       "    </tr>\n",
       "    <tr>\n",
       "      <td>15</td>\n",
       "      <td>16</td>\n",
       "      <td>2000</td>\n",
       "      <td>43000</td>\n",
       "      <td>2500</td>\n",
       "      <td>40500</td>\n",
       "      <td>280</td>\n",
       "    </tr>\n",
       "    <tr>\n",
       "      <td>16</td>\n",
       "      <td>17</td>\n",
       "      <td>2000</td>\n",
       "      <td>41000</td>\n",
       "      <td>2500</td>\n",
       "      <td>38500</td>\n",
       "      <td>360</td>\n",
       "    </tr>\n",
       "    <tr>\n",
       "      <td>17</td>\n",
       "      <td>18</td>\n",
       "      <td>2000</td>\n",
       "      <td>42000</td>\n",
       "      <td>2500</td>\n",
       "      <td>39500</td>\n",
       "      <td>320</td>\n",
       "    </tr>\n",
       "    <tr>\n",
       "      <td>18</td>\n",
       "      <td>19</td>\n",
       "      <td>2000</td>\n",
       "      <td>45000</td>\n",
       "      <td>2500</td>\n",
       "      <td>42500</td>\n",
       "      <td>200</td>\n",
       "    </tr>\n",
       "    <tr>\n",
       "      <td>19</td>\n",
       "      <td>20</td>\n",
       "      <td>2000</td>\n",
       "      <td>45000</td>\n",
       "      <td>2500</td>\n",
       "      <td>42500</td>\n",
       "      <td>200</td>\n",
       "    </tr>\n",
       "    <tr>\n",
       "      <td>20</td>\n",
       "      <td>21</td>\n",
       "      <td>2000</td>\n",
       "      <td>44000</td>\n",
       "      <td>2500</td>\n",
       "      <td>41500</td>\n",
       "      <td>240</td>\n",
       "    </tr>\n",
       "    <tr>\n",
       "      <td>21</td>\n",
       "      <td>22</td>\n",
       "      <td>2000</td>\n",
       "      <td>46000</td>\n",
       "      <td>2500</td>\n",
       "      <td>43500</td>\n",
       "      <td>160</td>\n",
       "    </tr>\n",
       "    <tr>\n",
       "      <td>22</td>\n",
       "      <td>23</td>\n",
       "      <td>2000</td>\n",
       "      <td>47000</td>\n",
       "      <td>2500</td>\n",
       "      <td>44500</td>\n",
       "      <td>120</td>\n",
       "    </tr>\n",
       "    <tr>\n",
       "      <td>23</td>\n",
       "      <td>24</td>\n",
       "      <td>2000</td>\n",
       "      <td>48000</td>\n",
       "      <td>2500</td>\n",
       "      <td>45500</td>\n",
       "      <td>80</td>\n",
       "    </tr>\n",
       "    <tr>\n",
       "      <td>24</td>\n",
       "      <td>25</td>\n",
       "      <td>2000</td>\n",
       "      <td>50000</td>\n",
       "      <td>2500</td>\n",
       "      <td>47500</td>\n",
       "      <td>0</td>\n",
       "    </tr>\n",
       "  </tbody>\n",
       "</table>\n",
       "</div>"
      ],
      "text/plain": [
       "    month  contribution    bid  commission  netbid  share\n",
       "0       1          2000  40000        2500   37500    400\n",
       "1       2          2000  42000        2500   39500    320\n",
       "2       3          2000  45000        2500   42500    200\n",
       "3       4          2000  48000        2500   45500     80\n",
       "4       5          2000  40000        2500   37500    400\n",
       "5       6          2000  42000        2500   39500    320\n",
       "6       7          2000  43000        2500   40500    280\n",
       "7       8          2000  44000        2500   41500    240\n",
       "8       9          2000  40000        2500   37500    400\n",
       "9      10          2000  42000        2500   39500    320\n",
       "10     11          2000  45000        2500   42500    200\n",
       "11     12          2000  48000        2500   45500     80\n",
       "12     13          2000  40000        2500   37500    400\n",
       "13     14          2000  42000        2500   39500    320\n",
       "14     15          2000  43000        2500   40500    280\n",
       "15     16          2000  43000        2500   40500    280\n",
       "16     17          2000  41000        2500   38500    360\n",
       "17     18          2000  42000        2500   39500    320\n",
       "18     19          2000  45000        2500   42500    200\n",
       "19     20          2000  45000        2500   42500    200\n",
       "20     21          2000  44000        2500   41500    240\n",
       "21     22          2000  46000        2500   43500    160\n",
       "22     23          2000  47000        2500   44500    120\n",
       "23     24          2000  48000        2500   45500     80\n",
       "24     25          2000  50000        2500   47500      0"
      ]
     },
     "execution_count": 4,
     "metadata": {},
     "output_type": "execute_result"
    }
   ],
   "source": [
    "chit.head(25)"
   ]
  },
  {
   "cell_type": "code",
   "execution_count": 5,
   "metadata": {},
   "outputs": [
    {
     "name": "stdout",
     "output_type": "stream",
     "text": [
      "Maximum Contribution Rs: 50000\n"
     ]
    }
   ],
   "source": [
    "#calculating the total contribution for each person\n",
    "\n",
    "totalContribution=chit['contribution'].sum()\n",
    "print(\"Maximum Contribution Rs:\",totalContribution)"
   ]
  },
  {
   "cell_type": "code",
   "execution_count": 6,
   "metadata": {},
   "outputs": [
    {
     "name": "stdout",
     "output_type": "stream",
     "text": [
      "Maximum Share Rs: 6200\n",
      "Total Commission Rs: 62500\n"
     ]
    }
   ],
   "source": [
    "#Each person contributing totally Rs: 50000\n",
    "totalShare=chit['share'].sum()\n",
    "print(\"Maximum Share Rs:\",totalShare)\n",
    "\n",
    "#Calculating Total Commission Made by the company\n",
    "print('Total Commission Rs:',chit['commission'].sum())\n"
   ]
  },
  {
   "cell_type": "code",
   "execution_count": 7,
   "metadata": {},
   "outputs": [
    {
     "name": "stdout",
     "output_type": "stream",
     "text": [
      "Month: 1\n",
      "Annual Return 1 th month is Rs. 43700\n"
     ]
    }
   ],
   "source": [
    "#saving the netbit amount separately\n",
    "bidAmountData=chit['netbid']\n",
    "# What is the Annualized  Return of the person who bids in the first month ?\n",
    "Month=int(input(\"Month: \"))\n",
    "bidAmount=bidAmountData[Month-1]\n",
    "annualReturn=bidAmount+totalShare\n",
    "print(\"Annual Return\",Month,\"th month is Rs.\", annualReturn)\n"
   ]
  },
  {
   "cell_type": "code",
   "execution_count": 8,
   "metadata": {},
   "outputs": [
    {
     "name": "stdout",
     "output_type": "stream",
     "text": [
      "Month: 25\n",
      "Annual Return 25 th month is Rs. 53700\n"
     ]
    }
   ],
   "source": [
    "# What is the Annualized  Return of the person who bids in the last month ?\n",
    "Month=int(input(\"Month: \"))\n",
    "bidAmount=bidAmountData[Month-1]\n",
    "annualReturn=bidAmount+totalShare\n",
    "print(\"Annual Return\",Month,\"th month is Rs.\", annualReturn)"
   ]
  },
  {
   "cell_type": "code",
   "execution_count": 9,
   "metadata": {},
   "outputs": [
    {
     "name": "stdout",
     "output_type": "stream",
     "text": [
      "    Month  Annualreturn  ProfitLoss  Percentage\n",
      "0       1         43700       -6300       -12.6\n",
      "1       2         45700       -4300        -8.6\n",
      "2       3         48700       -1300        -2.6\n",
      "3       4         51700        1700         3.4\n",
      "4       5         43700       -6300       -12.6\n",
      "5       6         45700       -4300        -8.6\n",
      "6       7         46700       -3300        -6.6\n",
      "7       8         47700       -2300        -4.6\n",
      "8       9         43700       -6300       -12.6\n",
      "9      10         45700       -4300        -8.6\n",
      "10     11         48700       -1300        -2.6\n",
      "11     12         51700        1700         3.4\n",
      "12     13         43700       -6300       -12.6\n",
      "13     14         45700       -4300        -8.6\n",
      "14     15         46700       -3300        -6.6\n",
      "15     16         46700       -3300        -6.6\n",
      "16     17         44700       -5300       -10.6\n",
      "17     18         45700       -4300        -8.6\n",
      "18     19         48700       -1300        -2.6\n",
      "19     20         48700       -1300        -2.6\n",
      "20     21         47700       -2300        -4.6\n",
      "21     22         49700        -300        -0.6\n",
      "22     23         50700         700         1.4\n",
      "23     24         51700        1700         3.4\n",
      "24     25         53700        3700         7.4\n"
     ]
    }
   ],
   "source": [
    "#Script for the whole values\n",
    "\n",
    "#creating the list for storing the values list start with []\n",
    "\n",
    "Month=[]\n",
    "Annualreturn=[]\n",
    "ProfitLoss=[]\n",
    "Percentage=[]\n",
    "\n",
    "for i in range(0,25):\n",
    "    bidAmount=bidAmountData[i]\n",
    "    #Adding the Month Because zero month is not available\n",
    "    Month.append(i+1)\n",
    "    #Annual Return\n",
    "    annualReturn=bidAmount+totalShare\n",
    "    #appending to the list\n",
    "    Annualreturn.append(annualReturn)\n",
    "    #Calculating Profit or loss\n",
    "    plAmount=annualReturn-totalContribution\n",
    "    #appending to list\n",
    "    ProfitLoss.append(plAmount)\n",
    "    #Calculating Data frames\n",
    "    Percentage.append((plAmount/totalContribution)*100)\n",
    "    \n",
    "newchit={'Month':Month,'Annualreturn':Annualreturn,'ProfitLoss':ProfitLoss,'Percentage':Percentage}\n",
    "\n",
    "newchitdata=pd.DataFrame(newchit)\n",
    "print(newchitdata)\n"
   ]
  },
  {
   "cell_type": "code",
   "execution_count": 11,
   "metadata": {},
   "outputs": [
    {
     "data": {
      "image/png": "[encoded data removed]",
      "text/plain": [
       "<Figure size 432x288 with 1 Axes>"
      ]
     },
     "metadata": {
      "needs_background": "light"
     },
     "output_type": "display_data"
    }
   ],
   "source": [
    "#import matplot library for visualizing the results of newchitdata\n",
    "\n",
    "import matplotlib.pyplot as plt\n",
    "import seaborn as sns\n",
    "#histplot helps to the show frequency of the amounts\n",
    "plt.hist(newchitdata['Annualreturn'],\n",
    "        color='blue',\n",
    "        edgecolor='white',\n",
    "        bins=10)\n",
    "plt.title('Annual Return Frequency')\n",
    "plt.xlabel('Annual Return(Rupees)')\n",
    "plt.ylabel('No of Persons')\n",
    "plt.show()\n",
    "\n"
   ]
  },
  {
   "cell_type": "code",
   "execution_count": 12,
   "metadata": {},
   "outputs": [
    {
     "data": {
      "text/plain": [
       "<seaborn.axisgrid.FacetGrid at 0x2785e7b4648>"
      ]
     },
     "execution_count": 12,
     "metadata": {},
     "output_type": "execute_result"
    },
    {
     "data": {
      "image/png": "[encoded data removed]",
      "text/plain": [
       "<Figure size 411.975x360 with 1 Axes>"
      ]
     },
     "metadata": {},
     "output_type": "display_data"
    }
   ],
   "source": [
    "sns.set(style=\"darkgrid\")\n",
    "sns.lmplot(x='Annualreturn',y='Percentage',data=newchitdata,fit_reg=False,hue='Month',legend=True,palette='Set1')\n"
   ]
  },
  {
   "cell_type": "code",
   "execution_count": 13,
   "metadata": {},
   "outputs": [
    {
     "data": {
      "image/png": "[encoded data removed]",
      "text/plain": [
       "<Figure size 432x288 with 1 Axes>"
      ]
     },
     "metadata": {},
     "output_type": "display_data"
    }
   ],
   "source": [
    "plt.plot(newchitdata['Month'],newchitdata['Percentage'],c='red')\n",
    "plt.title('Month Vs Percentage')\n",
    "plt.xlabel('Month')\n",
    "plt.ylabel('Return Percentage %')\n",
    "plt.show()\n"
   ]
  },
  {
   "cell_type": "markdown",
   "metadata": {},
   "source": [
    "# From the Above Data I'm getting the inference\n",
    "\n",
    "The Person Who makes bid in the First month Get Rs:43700 With Return Percentage of -12.6 %(Loss)\n",
    "The Person Who makes bid in the First month Get Rs:53700 With Return Percentage of 7.4 %(Profit)\n",
    "The person Who bids above Rs 47000 has the Chance to Get Minimum profit of 1.4 %(Profit)\n",
    "\n",
    "Maximum Return Percentage Profit 7.4%\n",
    "Minimum Return Percentage Loss -12.6%\n",
    "The Chit Fund Company makes Rs.62500 as the commission charges\n",
    " \n",
    "#Graphs Created for Easy Representation"
   ]
  },
  {
   "cell_type": "code",
   "execution_count": 14,
   "metadata": {},
   "outputs": [],
   "source": [
    "#saving the obtained newdatafor further usage\n",
    "\n",
    "newchitdata.to_csv('newchitdata.csv')"
   ]
  }
 ],
 "metadata": {
  "kernelspec": {
   "display_name": "Python 3",
   "language": "python",
   "name": "python3"
  },
  "language_info": {
   "codemirror_mode": {
    "name": "ipython",
    "version": 3
   },
   "file_extension": ".py",
   "mimetype": "text/x-python",
   "name": "python",
   "nbconvert_exporter": "python",
   "pygments_lexer": "ipython3",
   "version": "3.7.4"
  }
 },
 "nbformat": 4,
 "nbformat_minor": 2
}
