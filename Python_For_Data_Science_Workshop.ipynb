{
  "nbformat": 4,
  "nbformat_minor": 0,
  "metadata": {
    "colab": {
      "name": "Python For Data Science Workshop.ipynb",
      "provenance": [],
      "toc_visible": true
    },
    "kernelspec": {
      "name": "python3",
      "display_name": "Python 3"
    }
  },
  "cells": [
    {
      "cell_type": "markdown",
      "metadata": {
        "id": "EZbDbHWt-Ofm",
        "colab_type": "text"
      },
      "source": [
        "#Python Datatypes"
      ]
    },
    {
      "cell_type": "code",
      "metadata": {
        "id": "-ReHPg3J-S6p",
        "colab_type": "code",
        "colab": {}
      },
      "source": [
        "a=10 #integer datatype"
      ],
      "execution_count": 0,
      "outputs": []
    },
    {
      "cell_type": "code",
      "metadata": {
        "id": "uc3EVLEP-YGq",
        "colab_type": "code",
        "outputId": "d9150d01-998f-4f99-e67a-d236076dc090",
        "colab": {
          "base_uri": "https://localhost:8080/",
          "height": 34
        }
      },
      "source": [
        "type(a)"
      ],
      "execution_count": 0,
      "outputs": [
        {
          "output_type": "execute_result",
          "data": {
            "text/plain": [
              "int"
            ]
          },
          "metadata": {
            "tags": []
          },
          "execution_count": 2
        }
      ]
    },
    {
      "cell_type": "code",
      "metadata": {
        "id": "vt_JrTPT-b5H",
        "colab_type": "code",
        "colab": {}
      },
      "source": [
        "b='Hello World'"
      ],
      "execution_count": 0,
      "outputs": []
    },
    {
      "cell_type": "code",
      "metadata": {
        "id": "SjNxedLE-hns",
        "colab_type": "code",
        "outputId": "68d47bed-e789-4f4c-b913-dbcee787f717",
        "colab": {
          "base_uri": "https://localhost:8080/",
          "height": 34
        }
      },
      "source": [
        "type(b)"
      ],
      "execution_count": 0,
      "outputs": [
        {
          "output_type": "execute_result",
          "data": {
            "text/plain": [
              "str"
            ]
          },
          "metadata": {
            "tags": []
          },
          "execution_count": 4
        }
      ]
    },
    {
      "cell_type": "code",
      "metadata": {
        "id": "ghpP8TmR-kYK",
        "colab_type": "code",
        "colab": {}
      },
      "source": [
        "c=4.3"
      ],
      "execution_count": 0,
      "outputs": []
    },
    {
      "cell_type": "code",
      "metadata": {
        "id": "wVcmMQiH-n4v",
        "colab_type": "code",
        "outputId": "ffd864cf-f87b-4e9b-a2ca-7894e16be380",
        "colab": {
          "base_uri": "https://localhost:8080/",
          "height": 34
        }
      },
      "source": [
        "type(c)"
      ],
      "execution_count": 0,
      "outputs": [
        {
          "output_type": "execute_result",
          "data": {
            "text/plain": [
              "float"
            ]
          },
          "metadata": {
            "tags": []
          },
          "execution_count": 6
        }
      ]
    },
    {
      "cell_type": "code",
      "metadata": {
        "id": "sCatrLsW-pnV",
        "colab_type": "code",
        "outputId": "fdd61b7e-d7b8-40ed-f5af-4dda8fe7748d",
        "colab": {
          "base_uri": "https://localhost:8080/",
          "height": 34
        }
      },
      "source": [
        "print('This is Our Python Tutorial ' + b)"
      ],
      "execution_count": 0,
      "outputs": [
        {
          "output_type": "stream",
          "text": [
            "This is Our Python Tutorial Hello World\n"
          ],
          "name": "stdout"
        }
      ]
    },
    {
      "cell_type": "code",
      "metadata": {
        "id": "xrAvTAzC_CwL",
        "colab_type": "code",
        "colab": {}
      },
      "source": [
        "d=False"
      ],
      "execution_count": 0,
      "outputs": []
    },
    {
      "cell_type": "code",
      "metadata": {
        "id": "H1Ai7Sc-_GfP",
        "colab_type": "code",
        "outputId": "fd2f3a0a-5c7b-47fe-d9d4-befa29cb4410",
        "colab": {
          "base_uri": "https://localhost:8080/",
          "height": 34
        }
      },
      "source": [
        "type(d)"
      ],
      "execution_count": 0,
      "outputs": [
        {
          "output_type": "execute_result",
          "data": {
            "text/plain": [
              "bool"
            ]
          },
          "metadata": {
            "tags": []
          },
          "execution_count": 12
        }
      ]
    },
    {
      "cell_type": "code",
      "metadata": {
        "id": "xi-fMvzj_IrA",
        "colab_type": "code",
        "outputId": "2286bd4b-bd62-4ae2-b943-6651da067b7f",
        "colab": {
          "base_uri": "https://localhost:8080/",
          "height": 34
        }
      },
      "source": [
        "print(d==True)"
      ],
      "execution_count": 0,
      "outputs": [
        {
          "output_type": "stream",
          "text": [
            "False\n"
          ],
          "name": "stdout"
        }
      ]
    },
    {
      "cell_type": "code",
      "metadata": {
        "id": "SQZoeuug_NcT",
        "colab_type": "code",
        "outputId": "23e0e55e-57ad-42c7-8a61-056d7c7543e2",
        "colab": {
          "base_uri": "https://localhost:8080/",
          "height": 34
        }
      },
      "source": [
        "print(2==3)"
      ],
      "execution_count": 0,
      "outputs": [
        {
          "output_type": "stream",
          "text": [
            "False\n"
          ],
          "name": "stdout"
        }
      ]
    },
    {
      "cell_type": "code",
      "metadata": {
        "id": "-UaJlpzK_VXB",
        "colab_type": "code",
        "outputId": "83912193-3f4e-419c-e4ca-a664592b5022",
        "colab": {
          "base_uri": "https://localhost:8080/",
          "height": 34
        }
      },
      "source": [
        "print(2<3)"
      ],
      "execution_count": 0,
      "outputs": [
        {
          "output_type": "stream",
          "text": [
            "True\n"
          ],
          "name": "stdout"
        }
      ]
    },
    {
      "cell_type": "code",
      "metadata": {
        "id": "42mTyUyW_XnD",
        "colab_type": "code",
        "outputId": "68cfc7ef-3ce3-4c3e-a96d-2f4c7c82a537",
        "colab": {
          "base_uri": "https://localhost:8080/",
          "height": 34
        }
      },
      "source": [
        "print(5<=5)"
      ],
      "execution_count": 0,
      "outputs": [
        {
          "output_type": "stream",
          "text": [
            "True\n"
          ],
          "name": "stdout"
        }
      ]
    },
    {
      "cell_type": "code",
      "metadata": {
        "id": "m9frKQFt_bPL",
        "colab_type": "code",
        "colab": {}
      },
      "source": [
        ""
      ],
      "execution_count": 0,
      "outputs": []
    },
    {
      "cell_type": "markdown",
      "metadata": {
        "id": "4BEfcWA8_dwB",
        "colab_type": "text"
      },
      "source": [
        "#Conditions,Loops"
      ]
    },
    {
      "cell_type": "code",
      "metadata": {
        "id": "cjXNL7DB_kgF",
        "colab_type": "code",
        "outputId": "00b0de7c-6f76-4139-e2de-8101659faa16",
        "colab": {
          "base_uri": "https://localhost:8080/",
          "height": 34
        }
      },
      "source": [
        "if d==True:\n",
        "  print('I am inside If Statement')\n",
        "print('I am Outside D value is False')\n",
        "\n"
      ],
      "execution_count": 0,
      "outputs": [
        {
          "output_type": "stream",
          "text": [
            "I am Outside D value is False\n"
          ],
          "name": "stdout"
        }
      ]
    },
    {
      "cell_type": "code",
      "metadata": {
        "id": "_Ps-fKQzAAT1",
        "colab_type": "code",
        "outputId": "543df240-5af3-42ba-bc28-0c8a2eb2e904",
        "colab": {
          "base_uri": "https://localhost:8080/",
          "height": 187
        }
      },
      "source": [
        "for i in range(10):\n",
        "  print(i)"
      ],
      "execution_count": 0,
      "outputs": [
        {
          "output_type": "stream",
          "text": [
            "0\n",
            "1\n",
            "2\n",
            "3\n",
            "4\n",
            "5\n",
            "6\n",
            "7\n",
            "8\n",
            "9\n"
          ],
          "name": "stdout"
        }
      ]
    },
    {
      "cell_type": "code",
      "metadata": {
        "id": "LfbOvz4nAy2d",
        "colab_type": "code",
        "outputId": "f3f6df19-84c5-41e5-c218-6ff908e872f1",
        "colab": {
          "base_uri": "https://localhost:8080/",
          "height": 102
        }
      },
      "source": [
        "for i in range(5):\n",
        "  print(i**2)"
      ],
      "execution_count": 0,
      "outputs": [
        {
          "output_type": "stream",
          "text": [
            "0\n",
            "1\n",
            "4\n",
            "9\n",
            "16\n"
          ],
          "name": "stdout"
        }
      ]
    },
    {
      "cell_type": "code",
      "metadata": {
        "id": "rWv_nr46A8fk",
        "colab_type": "code",
        "colab": {}
      },
      "source": [
        "#helps to open the Help File\n",
        "range?"
      ],
      "execution_count": 0,
      "outputs": []
    },
    {
      "cell_type": "code",
      "metadata": {
        "id": "0nshmJP9BDpU",
        "colab_type": "code",
        "outputId": "1825ea85-7790-42f2-8501-a6afbfc65266",
        "colab": {
          "base_uri": "https://localhost:8080/",
          "height": 136
        }
      },
      "source": [
        "for i in range(0,7):\n",
        "  print(i)"
      ],
      "execution_count": 0,
      "outputs": [
        {
          "output_type": "stream",
          "text": [
            "0\n",
            "1\n",
            "2\n",
            "3\n",
            "4\n",
            "5\n",
            "6\n"
          ],
          "name": "stdout"
        }
      ]
    },
    {
      "cell_type": "code",
      "metadata": {
        "id": "kS_2NcDPBXUW",
        "colab_type": "code",
        "outputId": "ce4aeed4-c7c4-437a-e4b3-8fc0568c6691",
        "colab": {
          "base_uri": "https://localhost:8080/",
          "height": 102
        }
      },
      "source": [
        "i=0\n",
        "while i<5:\n",
        "  print(i)\n",
        "  i+=1"
      ],
      "execution_count": 0,
      "outputs": [
        {
          "output_type": "stream",
          "text": [
            "0\n",
            "1\n",
            "2\n",
            "3\n",
            "4\n"
          ],
          "name": "stdout"
        }
      ]
    },
    {
      "cell_type": "code",
      "metadata": {
        "id": "uT6yVB7kBnms",
        "colab_type": "code",
        "colab": {}
      },
      "source": [
        ""
      ],
      "execution_count": 0,
      "outputs": []
    },
    {
      "cell_type": "markdown",
      "metadata": {
        "id": "Iaagkc2ABvxw",
        "colab_type": "text"
      },
      "source": [
        "#Function Declaration"
      ]
    },
    {
      "cell_type": "code",
      "metadata": {
        "id": "8wdEKKikB24p",
        "colab_type": "code",
        "colab": {}
      },
      "source": [
        "def hello_world():\n",
        "  print('Im From Hello World Function')\n",
        "  "
      ],
      "execution_count": 0,
      "outputs": []
    },
    {
      "cell_type": "code",
      "metadata": {
        "id": "WgXf1Ue9CJs2",
        "colab_type": "code",
        "outputId": "40213964-1211-4a8e-832d-5062041140cf",
        "colab": {
          "base_uri": "https://localhost:8080/",
          "height": 34
        }
      },
      "source": [
        "hello_world()"
      ],
      "execution_count": 0,
      "outputs": [
        {
          "output_type": "stream",
          "text": [
            "Im From Hello World Function\n"
          ],
          "name": "stdout"
        }
      ]
    },
    {
      "cell_type": "code",
      "metadata": {
        "id": "TF1OlfTvCNO4",
        "colab_type": "code",
        "colab": {}
      },
      "source": [
        "def perfectsquares(n):\n",
        "  k=n+1\n",
        "  for i in range(k):\n",
        "    print(i**2)"
      ],
      "execution_count": 0,
      "outputs": []
    },
    {
      "cell_type": "code",
      "metadata": {
        "id": "sZWNPjYkCi0y",
        "colab_type": "code",
        "outputId": "33a149da-cd6d-4634-f89e-300a1d26ddee",
        "colab": {
          "base_uri": "https://localhost:8080/",
          "height": 204
        }
      },
      "source": [
        "perfectsquares(10)"
      ],
      "execution_count": 0,
      "outputs": [
        {
          "output_type": "stream",
          "text": [
            "0\n",
            "1\n",
            "4\n",
            "9\n",
            "16\n",
            "25\n",
            "36\n",
            "49\n",
            "64\n",
            "81\n",
            "100\n"
          ],
          "name": "stdout"
        }
      ]
    },
    {
      "cell_type": "code",
      "metadata": {
        "id": "vIawvPDwCoU_",
        "colab_type": "code",
        "colab": {}
      },
      "source": [
        "def sum_of_n(n):\n",
        "  sum=0\n",
        "  k=n+1\n",
        "  for i in range(k):\n",
        "    sum+=i\n",
        "  return sum"
      ],
      "execution_count": 0,
      "outputs": []
    },
    {
      "cell_type": "code",
      "metadata": {
        "id": "p6FT_x-lDQBg",
        "colab_type": "code",
        "outputId": "e63d1cee-5655-45e1-f877-0fe29160fe3c",
        "colab": {
          "base_uri": "https://localhost:8080/",
          "height": 34
        }
      },
      "source": [
        "sum_of_n(100)"
      ],
      "execution_count": 0,
      "outputs": [
        {
          "output_type": "execute_result",
          "data": {
            "text/plain": [
              "5050"
            ]
          },
          "metadata": {
            "tags": []
          },
          "execution_count": 55
        }
      ]
    },
    {
      "cell_type": "markdown",
      "metadata": {
        "id": "06D7DGkWEGIz",
        "colab_type": "text"
      },
      "source": [
        "#Lists"
      ]
    },
    {
      "cell_type": "markdown",
      "metadata": {
        "id": "GxYOS5D1IhVw",
        "colab_type": "text"
      },
      "source": [
        "List is set which contains variables of Different Data types need not to be of **Same Datatype**\n"
      ]
    },
    {
      "cell_type": "code",
      "metadata": {
        "id": "FTB6KhP2EdRp",
        "colab_type": "code",
        "colab": {}
      },
      "source": [
        "name = 'Robolabs'\n",
        "subject= 'Python'\n",
        "rating= 4.9"
      ],
      "execution_count": 0,
      "outputs": []
    },
    {
      "cell_type": "code",
      "metadata": {
        "id": "fVhAnhQQEyuR",
        "colab_type": "code",
        "colab": {}
      },
      "source": [
        "#List Starts With Square Bracket\n",
        "my_list=[name,subject,rating]"
      ],
      "execution_count": 0,
      "outputs": []
    },
    {
      "cell_type": "code",
      "metadata": {
        "id": "PQmOmHUeFCja",
        "colab_type": "code",
        "outputId": "fa5dd33e-34d0-43bd-8494-1fa835cc12f7",
        "colab": {
          "base_uri": "https://localhost:8080/",
          "height": 34
        }
      },
      "source": [
        "type(my_list)"
      ],
      "execution_count": 0,
      "outputs": [
        {
          "output_type": "execute_result",
          "data": {
            "text/plain": [
              "list"
            ]
          },
          "metadata": {
            "tags": []
          },
          "execution_count": 61
        }
      ]
    },
    {
      "cell_type": "code",
      "metadata": {
        "id": "oZIdfCQGFErz",
        "colab_type": "code",
        "outputId": "e5d3ddea-abfb-41e3-82f1-d0e50d1fc0ab",
        "colab": {
          "base_uri": "https://localhost:8080/",
          "height": 34
        }
      },
      "source": [
        "print(my_list)"
      ],
      "execution_count": 0,
      "outputs": [
        {
          "output_type": "stream",
          "text": [
            "['Robolabs', 'Python', 4.9]\n"
          ],
          "name": "stdout"
        }
      ]
    },
    {
      "cell_type": "code",
      "metadata": {
        "id": "MdM5RIwaFO_d",
        "colab_type": "code",
        "outputId": "c3f8e613-4b6d-4eeb-f288-af063aac88d3",
        "colab": {
          "base_uri": "https://localhost:8080/",
          "height": 34
        }
      },
      "source": [
        "my_list[0]"
      ],
      "execution_count": 0,
      "outputs": [
        {
          "output_type": "execute_result",
          "data": {
            "text/plain": [
              "'Robolabs'"
            ]
          },
          "metadata": {
            "tags": []
          },
          "execution_count": 64
        }
      ]
    },
    {
      "cell_type": "code",
      "metadata": {
        "id": "klci5lD4FabX",
        "colab_type": "code",
        "outputId": "2fb6df34-1dde-4bf2-b9af-8535b30e75bf",
        "colab": {
          "base_uri": "https://localhost:8080/",
          "height": 34
        }
      },
      "source": [
        "my_list[2]"
      ],
      "execution_count": 0,
      "outputs": [
        {
          "output_type": "execute_result",
          "data": {
            "text/plain": [
              "4.9"
            ]
          },
          "metadata": {
            "tags": []
          },
          "execution_count": 66
        }
      ]
    },
    {
      "cell_type": "code",
      "metadata": {
        "id": "AT5uhcZKFdg1",
        "colab_type": "code",
        "outputId": "e89f3f9d-f3ee-4913-8fa0-1fce96c76659",
        "colab": {
          "base_uri": "https://localhost:8080/",
          "height": 34
        }
      },
      "source": [
        "new_list=my_list\n",
        "print(new_list)"
      ],
      "execution_count": 0,
      "outputs": [
        {
          "output_type": "stream",
          "text": [
            "['Robolabs', 'Python', 4.9]\n"
          ],
          "name": "stdout"
        }
      ]
    },
    {
      "cell_type": "code",
      "metadata": {
        "id": "LBXZsUFiFqLk",
        "colab_type": "code",
        "colab": {}
      },
      "source": [
        "my_list[2]=4.8"
      ],
      "execution_count": 0,
      "outputs": []
    },
    {
      "cell_type": "code",
      "metadata": {
        "id": "_CywkRZzF1HB",
        "colab_type": "code",
        "outputId": "33047ed9-ab55-4bc2-cfa5-8e1f24c023e3",
        "colab": {
          "base_uri": "https://localhost:8080/",
          "height": 34
        }
      },
      "source": [
        "print(new_list)"
      ],
      "execution_count": 0,
      "outputs": [
        {
          "output_type": "stream",
          "text": [
            "['Robolabs', 'Python', 4.8]\n"
          ],
          "name": "stdout"
        }
      ]
    },
    {
      "cell_type": "code",
      "metadata": {
        "id": "jhvRGjdxF4i5",
        "colab_type": "code",
        "outputId": "17cbb7db-dd44-40af-d1e7-702821f7e2b1",
        "colab": {
          "base_uri": "https://localhost:8080/",
          "height": 34
        }
      },
      "source": [
        "my_list[2]=4.9\n",
        "new_list=list(my_list)\n",
        "print(new_list)"
      ],
      "execution_count": 0,
      "outputs": [
        {
          "output_type": "stream",
          "text": [
            "['Robolabs', 'Python', 4.9]\n"
          ],
          "name": "stdout"
        }
      ]
    },
    {
      "cell_type": "code",
      "metadata": {
        "id": "fQCF38FbGFuc",
        "colab_type": "code",
        "colab": {}
      },
      "source": [
        "my_list[2]=0.1"
      ],
      "execution_count": 0,
      "outputs": []
    },
    {
      "cell_type": "code",
      "metadata": {
        "id": "8-1PezUxGKUv",
        "colab_type": "code",
        "outputId": "a242fa71-dfaf-4aae-86ee-f7d7c09f1cdd",
        "colab": {
          "base_uri": "https://localhost:8080/",
          "height": 34
        }
      },
      "source": [
        "print(new_list)"
      ],
      "execution_count": 0,
      "outputs": [
        {
          "output_type": "stream",
          "text": [
            "['Robolabs', 'Python', 4.9]\n"
          ],
          "name": "stdout"
        }
      ]
    },
    {
      "cell_type": "code",
      "metadata": {
        "id": "a2FZL_bQGMWd",
        "colab_type": "code",
        "outputId": "4902b760-ed3d-41e2-9dc5-e3788a5ace84",
        "colab": {
          "base_uri": "https://localhost:8080/",
          "height": 34
        }
      },
      "source": [
        "print(my_list)"
      ],
      "execution_count": 0,
      "outputs": [
        {
          "output_type": "stream",
          "text": [
            "['Robolabs', 'Python', 0.1]\n"
          ],
          "name": "stdout"
        }
      ]
    },
    {
      "cell_type": "code",
      "metadata": {
        "id": "VCMqCmFMGOuq",
        "colab_type": "code",
        "colab": {}
      },
      "source": [
        "my_list.append('Workshop')"
      ],
      "execution_count": 0,
      "outputs": []
    },
    {
      "cell_type": "code",
      "metadata": {
        "id": "QSDJHlZzGkCU",
        "colab_type": "code",
        "outputId": "caaad6f5-1e86-40fe-bf90-40ab235e91b1",
        "colab": {
          "base_uri": "https://localhost:8080/",
          "height": 34
        }
      },
      "source": [
        "print(my_list)"
      ],
      "execution_count": 0,
      "outputs": [
        {
          "output_type": "stream",
          "text": [
            "['Robolabs', 'Python', 0.1, 'Workshop']\n"
          ],
          "name": "stdout"
        }
      ]
    },
    {
      "cell_type": "code",
      "metadata": {
        "id": "hIFVG_PdGmfk",
        "colab_type": "code",
        "outputId": "3d13924c-e683-4e68-af55-8477fb1dfe31",
        "colab": {
          "base_uri": "https://localhost:8080/",
          "height": 34
        }
      },
      "source": [
        "print(new_list)"
      ],
      "execution_count": 0,
      "outputs": [
        {
          "output_type": "stream",
          "text": [
            "['Robolabs', 'Python', 4.9]\n"
          ],
          "name": "stdout"
        }
      ]
    },
    {
      "cell_type": "code",
      "metadata": {
        "id": "6qERqKj8GpjJ",
        "colab_type": "code",
        "colab": {}
      },
      "source": [
        "my_list1=['Java Script','Angular','Node Js']"
      ],
      "execution_count": 0,
      "outputs": []
    },
    {
      "cell_type": "code",
      "metadata": {
        "id": "6nqJRvICG89_",
        "colab_type": "code",
        "outputId": "f0068bca-6888-4cfa-8521-ef46ee17512a",
        "colab": {
          "base_uri": "https://localhost:8080/",
          "height": 34
        }
      },
      "source": [
        "update_list=my_list+my_list1\n",
        "print(update_list)"
      ],
      "execution_count": 0,
      "outputs": [
        {
          "output_type": "stream",
          "text": [
            "['Robolabs', 'Python', 0.1, 'Workshop', 'Java Script', 'Angular', 'Node Js']\n"
          ],
          "name": "stdout"
        }
      ]
    },
    {
      "cell_type": "code",
      "metadata": {
        "id": "3eLo4oUWHGUq",
        "colab_type": "code",
        "outputId": "a51c01a3-a576-4708-fda6-3d33bd5deab3",
        "colab": {
          "base_uri": "https://localhost:8080/",
          "height": 34
        }
      },
      "source": [
        "len(update_list)"
      ],
      "execution_count": 0,
      "outputs": [
        {
          "output_type": "execute_result",
          "data": {
            "text/plain": [
              "7"
            ]
          },
          "metadata": {
            "tags": []
          },
          "execution_count": 79
        }
      ]
    },
    {
      "cell_type": "code",
      "metadata": {
        "id": "wLRFZjxVHJok",
        "colab_type": "code",
        "outputId": "ee393741-806b-4302-f3ae-0bb11606ff48",
        "colab": {
          "base_uri": "https://localhost:8080/",
          "height": 34
        }
      },
      "source": [
        "len(my_list)"
      ],
      "execution_count": 0,
      "outputs": [
        {
          "output_type": "execute_result",
          "data": {
            "text/plain": [
              "4"
            ]
          },
          "metadata": {
            "tags": []
          },
          "execution_count": 80
        }
      ]
    },
    {
      "cell_type": "code",
      "metadata": {
        "id": "RESGyRdaHMLM",
        "colab_type": "code",
        "outputId": "ec240b87-1464-423b-dfde-d34a1f63640a",
        "colab": {
          "base_uri": "https://localhost:8080/",
          "height": 85
        }
      },
      "source": [
        "for i in my_list:\n",
        "  print(i)"
      ],
      "execution_count": 0,
      "outputs": [
        {
          "output_type": "stream",
          "text": [
            "Robolabs\n",
            "Python\n",
            "0.1\n",
            "Workshop\n"
          ],
          "name": "stdout"
        }
      ]
    },
    {
      "cell_type": "code",
      "metadata": {
        "id": "LiN10xxoHUXY",
        "colab_type": "code",
        "outputId": "7af37d1a-55d9-4847-e1c1-1d3058c3e1b7",
        "colab": {
          "base_uri": "https://localhost:8080/",
          "height": 34
        }
      },
      "source": [
        "print(my_list[1:2])"
      ],
      "execution_count": 0,
      "outputs": [
        {
          "output_type": "stream",
          "text": [
            "['Python']\n"
          ],
          "name": "stdout"
        }
      ]
    },
    {
      "cell_type": "code",
      "metadata": {
        "id": "kni-IaA2Hm1N",
        "colab_type": "code",
        "outputId": "0fdd3aac-84ba-4abf-ecf9-031738121e65",
        "colab": {
          "base_uri": "https://localhost:8080/",
          "height": 34
        }
      },
      "source": [
        "print(my_list[:4])"
      ],
      "execution_count": 0,
      "outputs": [
        {
          "output_type": "stream",
          "text": [
            "['Robolabs', 'Python', 0.1, 'Workshop']\n"
          ],
          "name": "stdout"
        }
      ]
    },
    {
      "cell_type": "code",
      "metadata": {
        "id": "W15bGI-bHr6u",
        "colab_type": "code",
        "outputId": "24850a6f-489d-48ac-9dcf-521ee7bd0a66",
        "colab": {
          "base_uri": "https://localhost:8080/",
          "height": 34
        }
      },
      "source": [
        "print(my_list[1:])"
      ],
      "execution_count": 0,
      "outputs": [
        {
          "output_type": "stream",
          "text": [
            "['Python', 0.1, 'Workshop']\n"
          ],
          "name": "stdout"
        }
      ]
    },
    {
      "cell_type": "markdown",
      "metadata": {
        "id": "PO1Z9Kh-IEgr",
        "colab_type": "text"
      },
      "source": [
        "#Tuples"
      ]
    },
    {
      "cell_type": "code",
      "metadata": {
        "id": "xX4rjxqaP02O",
        "colab_type": "code",
        "colab": {}
      },
      "source": [
        "my_tuple=('id','Karthick','23','64000')"
      ],
      "execution_count": 0,
      "outputs": []
    },
    {
      "cell_type": "code",
      "metadata": {
        "id": "ONP8NXbzQtq9",
        "colab_type": "code",
        "outputId": "129825e7-dc7b-4b0e-a9a2-d1761c8be9e8",
        "colab": {
          "base_uri": "https://localhost:8080/",
          "height": 34
        }
      },
      "source": [
        "print(my_tuple)"
      ],
      "execution_count": 0,
      "outputs": [
        {
          "output_type": "stream",
          "text": [
            "('id', 'Karthick', '23', '64000')\n"
          ],
          "name": "stdout"
        }
      ]
    },
    {
      "cell_type": "code",
      "metadata": {
        "id": "fVocJgR_Qv32",
        "colab_type": "code",
        "outputId": "d34c066d-7d2a-4913-b5d5-70c2a9b2329e",
        "colab": {
          "base_uri": "https://localhost:8080/",
          "height": 34
        }
      },
      "source": [
        "my_tuple[0]"
      ],
      "execution_count": 0,
      "outputs": [
        {
          "output_type": "execute_result",
          "data": {
            "text/plain": [
              "'id'"
            ]
          },
          "metadata": {
            "tags": []
          },
          "execution_count": 91
        }
      ]
    },
    {
      "cell_type": "code",
      "metadata": {
        "id": "w7YuxcArQysS",
        "colab_type": "code",
        "outputId": "195a7dda-b692-47ab-c7f4-b2a5e3e2b100",
        "colab": {
          "base_uri": "https://localhost:8080/",
          "height": 34
        }
      },
      "source": [
        "my_tuple[-1]"
      ],
      "execution_count": 0,
      "outputs": [
        {
          "output_type": "execute_result",
          "data": {
            "text/plain": [
              "'64000'"
            ]
          },
          "metadata": {
            "tags": []
          },
          "execution_count": 92
        }
      ]
    },
    {
      "cell_type": "code",
      "metadata": {
        "id": "KWuYqKbIQ_rz",
        "colab_type": "code",
        "outputId": "3721b539-d0d2-4a65-d608-c5a51afc2c97",
        "colab": {
          "base_uri": "https://localhost:8080/",
          "height": 34
        }
      },
      "source": [
        "my_tuple[0:]"
      ],
      "execution_count": 0,
      "outputs": [
        {
          "output_type": "execute_result",
          "data": {
            "text/plain": [
              "('id', 'Karthick', '23', '64000')"
            ]
          },
          "metadata": {
            "tags": []
          },
          "execution_count": 94
        }
      ]
    },
    {
      "cell_type": "code",
      "metadata": {
        "id": "vajxvlohRCn5",
        "colab_type": "code",
        "outputId": "1af9ec7a-94ef-48f5-ece4-754026f3ca35",
        "colab": {
          "base_uri": "https://localhost:8080/",
          "height": 34
        }
      },
      "source": [
        "len(my_tuple)"
      ],
      "execution_count": 0,
      "outputs": [
        {
          "output_type": "execute_result",
          "data": {
            "text/plain": [
              "4"
            ]
          },
          "metadata": {
            "tags": []
          },
          "execution_count": 95
        }
      ]
    },
    {
      "cell_type": "code",
      "metadata": {
        "id": "faAAWdZnRdUI",
        "colab_type": "code",
        "outputId": "19d5bfd4-394d-47be-fda4-8692e05e51a5",
        "colab": {
          "base_uri": "https://localhost:8080/",
          "height": 34
        }
      },
      "source": [
        "max(my_tuple)"
      ],
      "execution_count": 0,
      "outputs": [
        {
          "output_type": "execute_result",
          "data": {
            "text/plain": [
              "'id'"
            ]
          },
          "metadata": {
            "tags": []
          },
          "execution_count": 96
        }
      ]
    },
    {
      "cell_type": "code",
      "metadata": {
        "id": "5-4xLUGGRmav",
        "colab_type": "code",
        "outputId": "7bd6b7b8-2d5e-40f4-ba6e-88b02413c983",
        "colab": {
          "base_uri": "https://localhost:8080/",
          "height": 34
        }
      },
      "source": [
        "min(my_tuple)"
      ],
      "execution_count": 0,
      "outputs": [
        {
          "output_type": "execute_result",
          "data": {
            "text/plain": [
              "'23'"
            ]
          },
          "metadata": {
            "tags": []
          },
          "execution_count": 97
        }
      ]
    },
    {
      "cell_type": "code",
      "metadata": {
        "id": "UM5DYCd-RpoS",
        "colab_type": "code",
        "outputId": "0f863db9-2fb0-466b-c112-613466746be7",
        "colab": {
          "base_uri": "https://localhost:8080/",
          "height": 51
        }
      },
      "source": [
        "marks=(10,56,25,35)\n",
        "print(max(marks))\n",
        "print(min(marks))"
      ],
      "execution_count": 0,
      "outputs": [
        {
          "output_type": "stream",
          "text": [
            "56\n",
            "10\n"
          ],
          "name": "stdout"
        }
      ]
    },
    {
      "cell_type": "code",
      "metadata": {
        "id": "_ssFiRXsR1Yu",
        "colab_type": "code",
        "colab": {}
      },
      "source": [
        "twotuple=my_tuple+marks"
      ],
      "execution_count": 0,
      "outputs": []
    },
    {
      "cell_type": "code",
      "metadata": {
        "id": "YL91q7e8R7dS",
        "colab_type": "code",
        "outputId": "fc9062a8-e472-4933-9461-f5f37b6543a0",
        "colab": {
          "base_uri": "https://localhost:8080/",
          "height": 34
        }
      },
      "source": [
        "print(twotuple)"
      ],
      "execution_count": 0,
      "outputs": [
        {
          "output_type": "stream",
          "text": [
            "('id', 'Karthick', '23', '64000', 10, 56, 25, 35)\n"
          ],
          "name": "stdout"
        }
      ]
    },
    {
      "cell_type": "code",
      "metadata": {
        "id": "yM-79U0ZSJN0",
        "colab_type": "code",
        "colab": {}
      },
      "source": [
        " "
      ],
      "execution_count": 0,
      "outputs": []
    },
    {
      "cell_type": "markdown",
      "metadata": {
        "id": "HVwnTUIgScoX",
        "colab_type": "text"
      },
      "source": [
        "#Dictionary"
      ]
    },
    {
      "cell_type": "code",
      "metadata": {
        "id": "bxZnYaI1SfKr",
        "colab_type": "code",
        "colab": {}
      },
      "source": [
        "my_dict={''}"
      ],
      "execution_count": 0,
      "outputs": []
    }
  ]
}